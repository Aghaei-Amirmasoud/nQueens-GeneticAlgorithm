{
 "cells": [
  {
   "cell_type": "markdown",
   "source": [
    "Import libraries\n"
   ],
   "metadata": {
    "collapsed": false
   }
  },
  {
   "cell_type": "code",
   "execution_count": 1,
   "outputs": [],
   "source": [
    "import random\n",
    "from scipy import special as sc\n",
    "import itertools\n",
    "import matplotlib.pyplot as plt\n",
    "import numpy as np\n",
    "import pandas\n",
    "from matplotlib.table import Table"
   ],
   "metadata": {
    "collapsed": false,
    "pycharm": {
     "name": "#%%\n"
    }
   }
  },
  {
   "cell_type": "markdown",
   "source": [
    "Fitness Calculation"
   ],
   "metadata": {
    "collapsed": false,
    "pycharm": {
     "name": "#%% md\n"
    }
   }
  },
  {
   "cell_type": "code",
   "source": [
    "def fitness_score(seq):\n",
    "    score = 0\n",
    "    for row in range(NUM_QUEENS):\n",
    "        col = seq[row]\n",
    "\n",
    "        for other_row in range(NUM_QUEENS):\n",
    "\n",
    "            # queens cannot pair with itself\n",
    "            if other_row == row:\n",
    "                continue\n",
    "            # row and column check\n",
    "            if seq[other_row] == col:\n",
    "                continue\n",
    "            #diagonal checks\n",
    "            if other_row + seq[other_row] == row + col:\n",
    "                continue\n",
    "            if other_row - seq[other_row] == row - col:\n",
    "                continue\n",
    "            # score++ if every pair of queens are non-attacking.\n",
    "            # total score must be n*(n-1)/2\n",
    "            score += 1\n",
    "\n",
    "    # divide by 2 as pairs of queens are commutative\n",
    "    return score / 2\n"
   ],
   "metadata": {
    "collapsed": false,
    "pycharm": {
     "name": "#%%\n"
    }
   },
   "execution_count": 2,
   "outputs": []
  },
  {
   "cell_type": "markdown",
   "source": [
    "Algorithm functions"
   ],
   "metadata": {
    "collapsed": false
   }
  },
  {
   "cell_type": "code",
   "execution_count": 3,
   "outputs": [],
   "source": [
    "def selection(populate):\n",
    "    parents = []\n",
    "    for ind in populate:\n",
    "        # select parents with probability proportional to their fitness score\n",
    "        if random.randrange(sc.comb(NUM_QUEENS, 2) * 2) < fitness_score(ind):\n",
    "            parents.append(ind)\n",
    "\n",
    "    return parents\n",
    "\n",
    "\"\"\"\n",
    "the section that defines memetic algorithm,\n",
    "this is what we use to reduce time complexity\n",
    "\"\"\"\n",
    "\n",
    "def crossover(parents):\n",
    "    # random indexes to to cross states with\n",
    "    cross_points = random.sample(range(NUM_QUEENS), MIXING_NUMBER - 1)\n",
    "    offsprings = []\n",
    "\n",
    "    # all permutations of parents\n",
    "    permutations = list(itertools.permutations(parents, MIXING_NUMBER))\n",
    "\n",
    "    for perm in permutations:\n",
    "        offspring = []\n",
    "\n",
    "        # track starting index of sublist\n",
    "        start_pt = 0\n",
    "\n",
    "        for parent_idx, cross_point in enumerate(cross_points):  # doesn't account for last parent\n",
    "\n",
    "            # sublist of parent to be crossed\n",
    "            parent_part = perm[parent_idx][start_pt:cross_point]\n",
    "            offspring.append(parent_part)\n",
    "\n",
    "            # update index pointer\n",
    "            start_pt = cross_point\n",
    "\n",
    "        # last parent\n",
    "        last_parent = perm[-1]\n",
    "        parent_part = last_parent[cross_point:]\n",
    "        offspring.append(parent_part)\n",
    "\n",
    "        # flatten the list since append works kinda differently\n",
    "        offsprings.append(list(itertools.chain(*offspring)))\n",
    "\n",
    "    return offsprings\n",
    "\n",
    "\n",
    "def mutate(seq):\n",
    "    for row in range(len(seq)):\n",
    "        if random.random() < MUTATION_RATE:\n",
    "            seq[row] = random.randrange(NUM_QUEENS)\n",
    "\n",
    "    return seq\n",
    "\n",
    "def print_found_goal(populations, to_print=True):\n",
    "    global solution\n",
    "    for ind in populations:\n",
    "        score = fitness_score(ind)\n",
    "        print(score)\n",
    "        if score == sc.comb(NUM_QUEENS, 2):\n",
    "            if to_print:\n",
    "                print('Solution found')\n",
    "                solution = ind\n",
    "            return True\n",
    "        break\n",
    "\n",
    "    if to_print:\n",
    "        print('Solution not found')\n",
    "    return False\n",
    "\n",
    "\n",
    "def evolution(populate):\n",
    "    # select individuals to become parents\n",
    "    parents = selection(populate)\n",
    "\n",
    "    # recombination. Create new offsprings\n",
    "    offsprings = crossover(parents)\n",
    "\n",
    "    # mutation\n",
    "    offsprings = list(map(mutate, offsprings))\n",
    "\n",
    "    # introduce top-scoring individuals from previous generation and keep top fitness individuals\n",
    "    new_gen = offsprings\n",
    "\n",
    "    for ind in populate:\n",
    "        new_gen.append(ind)\n",
    "\n",
    "    new_gen = sorted(new_gen, key=lambda index: fitness_score(index), reverse=True)[:POPULATION_SIZE]\n",
    "\n",
    "    return new_gen\n",
    "\n",
    "\n",
    "def generate_population():\n",
    "    initPopulation = []\n",
    "    for individual in range(POPULATION_SIZE):\n",
    "        new = [random.randrange(NUM_QUEENS) for _ in range(NUM_QUEENS)]\n",
    "        initPopulation.append(new)\n",
    "\n",
    "    return initPopulation\n"
   ],
   "metadata": {
    "collapsed": false,
    "pycharm": {
     "name": "#%%\n"
    }
   }
  },
  {
   "cell_type": "markdown",
   "source": [
    "Define parameters"
   ],
   "metadata": {
    "collapsed": false
   }
  },
  {
   "cell_type": "code",
   "execution_count": 4,
   "outputs": [],
   "source": [
    "NUM_QUEENS = int(input('Enter Number of Queens: '))\n",
    "POPULATION_SIZE = 15\n",
    "MIXING_NUMBER = 2\n",
    "MUTATION_RATE = 0.012"
   ],
   "metadata": {
    "collapsed": false,
    "pycharm": {
     "name": "#%%\n"
    }
   }
  },
  {
   "cell_type": "markdown",
   "source": [
    "Running the experiment"
   ],
   "metadata": {
    "collapsed": false,
    "pycharm": {
     "name": "#%% md\n"
    }
   }
  },
  {
   "cell_type": "code",
   "execution_count": 5,
   "outputs": [
    {
     "name": "stdout",
     "output_type": "stream",
     "text": [
      "8.0\n",
      "Solution not found\n",
      "Generation: 0\n",
      "8.0\n",
      "Solution not found\n",
      "8.0\n",
      "Solution not found\n",
      "Generation: 1\n",
      "8.0\n",
      "Solution not found\n",
      "10.0\n",
      "Solution found\n",
      "[1, 4, 2, 0, 3]\n"
     ]
    },
    {
     "name": "stderr",
     "output_type": "stream",
     "text": [
      "C:\\Users\\mrmas\\AppData\\Local\\Temp/ipykernel_18428/801981907.py:5: DeprecationWarning: non-integer arguments to randrange() have been deprecated since Python 3.10 and will be removed in a subsequent version\n",
      "  if random.randrange(sc.comb(NUM_QUEENS, 2) * 2) < fitness_score(ind):\n"
     ]
    }
   ],
   "source": [
    "generation = 0\n",
    "# generate random population\n",
    "population = generate_population()\n",
    "\n",
    "# for plot creation\n",
    "solution = []\n",
    "lables = []\n",
    "\n",
    "for i in range(NUM_QUEENS):\n",
    "    lables.append(i)\n",
    "\n",
    "while not print_found_goal(population):\n",
    "    print(f'Generation: {generation}')\n",
    "    print_found_goal(population)\n",
    "    population = evolution(population)\n",
    "    generation += 1\n",
    "\n",
    "#print answer\n",
    "print(solution)"
   ],
   "metadata": {
    "collapsed": false,
    "pycharm": {
     "name": "#%%\n"
    }
   }
  },
  {
   "cell_type": "markdown",
   "source": [
    "Create plot"
   ],
   "metadata": {
    "collapsed": false
   }
  },
  {
   "cell_type": "code",
   "execution_count": 6,
   "outputs": [
    {
     "data": {
      "text/plain": "<Figure size 432x288 with 1 Axes>",
      "image/png": "[encoded data removed]"
     },
     "metadata": {
      "needs_background": "light"
     },
     "output_type": "display_data"
    }
   ],
   "source": [
    "def graph():\n",
    "    data = pandas.DataFrame(np.random.random((NUM_QUEENS, NUM_QUEENS)))\n",
    "    checkerboard_table(data)\n",
    "    plt.show()\n",
    "\n",
    "def checkerboard_table(data, bkg_colors=None):\n",
    "    if bkg_colors is None:\n",
    "        bkg_colors = ['gray', 'white']\n",
    "\n",
    "    fig, ax = plt.subplots()\n",
    "    ax.set_axis_off()\n",
    "    tb = Table(ax, bbox=[0, 0, 1, 1])\n",
    "\n",
    "    nrows, ncols = data.shape\n",
    "    width, height = 1.0 / ncols, 1.0 / nrows\n",
    "\n",
    "    for i in range(NUM_QUEENS):\n",
    "        for j in range(NUM_QUEENS):\n",
    "            idx = [j % 2, (j + 1) % 2][i % 2]\n",
    "            color = bkg_colors[idx]\n",
    "            if solution[i] == j:\n",
    "                tb.add_cell(i, j, width, height,\n",
    "                            loc='center', facecolor='black')\n",
    "            else:\n",
    "                tb.add_cell(i, j, width, height,\n",
    "                            loc='center', facecolor=color)\n",
    "\n",
    "    # Row Labels...\n",
    "    for i, label in enumerate(data.index):\n",
    "        tb.add_cell(i, -1, width, height, text=label, loc='right',\n",
    "                    edgecolor='none', facecolor='none')\n",
    "    # Column Labels...\n",
    "    for j, label in enumerate(data.columns):\n",
    "        tb.add_cell(-1, j, width, height / 2, text=label, loc='center',\n",
    "                    edgecolor='none', facecolor='none')\n",
    "    ax.add_table(tb)\n",
    "    return fig\n",
    "\n",
    "\n",
    "graph()"
   ],
   "metadata": {
    "collapsed": false,
    "pycharm": {
     "name": "#%%\n"
    }
   }
  },
  {
   "cell_type": "markdown",
   "source": [
    "second run"
   ],
   "metadata": {
    "collapsed": false,
    "pycharm": {
     "name": "#%% md\n"
    }
   }
  },
  {
   "cell_type": "code",
   "execution_count": null,
   "outputs": [],
   "source": [
    "NUM_QUEENS = int(input('Enter Number of Queens: '))\n",
    "POPULATION_SIZE = 16\n",
    "MIXING_NUMBER = 2\n",
    "MUTATION_RATE = 0.05"
   ],
   "metadata": {
    "collapsed": false,
    "pycharm": {
     "name": "#%%\n"
    }
   }
  },
  {
   "cell_type": "markdown",
   "source": [
    "Running the experiment"
   ],
   "metadata": {
    "collapsed": false,
    "pycharm": {
     "name": "#%% md\n"
    }
   }
  },
  {
   "cell_type": "code",
   "execution_count": 8,
   "outputs": [
    {
     "name": "stdout",
     "output_type": "stream",
     "text": [
      "279.0\n",
      "Solution not found\n",
      "Generation: 0\n",
      "279.0\n",
      "Solution not found\n",
      "281.0\n",
      "Solution not found\n",
      "Generation: 1\n",
      "281.0\n",
      "Solution not found\n",
      "283.0\n",
      "Solution not found\n",
      "Generation: 2\n",
      "283.0\n",
      "Solution not found\n",
      "286.0\n",
      "Solution not found\n",
      "Generation: 3\n",
      "286.0\n",
      "Solution not found\n",
      "286.0\n",
      "Solution not found\n",
      "Generation: 4\n",
      "286.0\n",
      "Solution not found\n",
      "286.0\n",
      "Solution not found\n",
      "Generation: 5\n",
      "286.0\n",
      "Solution not found\n",
      "287.0"
     ]
    },
    {
     "name": "stderr",
     "output_type": "stream",
     "text": [
      "C:\\Users\\mrmas\\AppData\\Local\\Temp/ipykernel_18428/801981907.py:5: DeprecationWarning: non-integer arguments to randrange() have been deprecated since Python 3.10 and will be removed in a subsequent version\n",
      "  if random.randrange(sc.comb(NUM_QUEENS, 2) * 2) < fitness_score(ind):\n"
     ]
    },
    {
     "name": "stdout",
     "output_type": "stream",
     "text": [
      "\n",
      "Solution not found\n",
      "Generation: 6\n",
      "287.0\n",
      "Solution not found\n",
      "289.0\n",
      "Solution not found\n",
      "Generation: 7\n",
      "289.0\n",
      "Solution not found\n",
      "289.0\n",
      "Solution not found\n",
      "Generation: 8\n",
      "289.0\n",
      "Solution not found\n",
      "290.0\n",
      "Solution not found\n",
      "Generation: 9\n",
      "290.0\n",
      "Solution not found\n",
      "290.0\n",
      "Solution not found\n",
      "Generation: 10\n",
      "290.0\n",
      "Solution not found\n",
      "290.0\n",
      "Solution not found\n",
      "Generation: 11\n",
      "290.0\n",
      "Solution not found\n",
      "291.0\n",
      "Solution not found\n",
      "Generation: 12\n",
      "291.0\n",
      "Solution not found\n",
      "292.0\n",
      "Solution not found\n",
      "Generation: 13\n",
      "292.0\n",
      "Solution not found\n",
      "292.0\n",
      "Solution not found\n",
      "Generation: 14\n",
      "292.0\n",
      "Solution not found\n",
      "292.0\n",
      "Solution not found\n",
      "Generation: 15\n",
      "292.0\n",
      "Solution not found\n",
      "292.0\n",
      "Solution not found\n",
      ".........\n",
      ".........\n",
      "....wait..for..it.....\n",
      ".........\n",
      ".........\n",
      "Generation: 306\n",
      "299.0\n",
      "Solution not found\n",
      "299.0\n",
      "Solution not found\n",
      "Generation: 307\n",
      "299.0\n",
      "Solution not found\n",
      "299.0\n",
      "Solution not found\n",
      "Generation: 308\n",
      "299.0\n",
      "Solution not found\n",
      "299.0\n",
      "Solution not found\n",
      "Generation: 309\n",
      "299.0\n",
      "Solution not found\n",
      "299.0\n",
      "Solution not found\n",
      "Generation: 310\n",
      "299.0\n",
      "Solution not found\n",
      "299.0\n",
      "Solution not found\n",
      "Generation: 311\n",
      "299.0\n",
      "Solution not found\n",
      "299.0\n",
      "Solution not found\n",
      "Generation: 312\n",
      "299.0\n",
      "Solution not found\n",
      "299.0\n",
      "Solution not found\n",
      "Generation: 313\n",
      "299.0\n",
      "Solution not found\n",
      "299.0\n",
      "Solution not found\n",
      "Generation: 314\n",
      "299.0\n",
      "Solution not found\n",
      "299.0\n",
      "Solution not found\n",
      "Generation: 315\n",
      "299.0\n",
      "Solution not found\n",
      "299.0\n",
      "Solution not found\n",
      "Generation: 316\n",
      "299.0\n",
      "Solution not found\n",
      "299.0\n",
      "Solution not found\n",
      "Generation: 317\n",
      "299.0\n",
      "Solution not found\n",
      "299.0\n",
      "Solution not found\n",
      "Generation: 318\n",
      "299.0\n",
      "Solution not found\n",
      "299.0\n",
      "Solution not found\n",
      "Generation: 319\n",
      "299.0\n",
      "Solution not found\n",
      "299.0\n",
      "Solution not found\n",
      "Generation: 320\n",
      "299.0\n",
      "Solution not found\n",
      "299.0\n",
      "Solution not found\n",
      "Generation: 321\n",
      "299.0\n",
      "Solution not found\n",
      "300.0\n",
      "Solution found\n",
      "[19, 11, 13, 4, 9, 20, 23, 2, 24, 15, 8, 0, 5, 1, 14, 22, 7, 3, 17, 21, 16, 6, 12, 10, 18]\n"
     ]
    },
    {
     "data": {
      "text/plain": "<Figure size 432x288 with 1 Axes>",
      "image/png": "[encoded data removed]"
     },
     "metadata": {
      "needs_background": "light"
     },
     "output_type": "display_data"
    }
   ],
   "source": [
    "generation = 0\n",
    "# generate random population\n",
    "population = generate_population()\n",
    "\n",
    "# for plot creation\n",
    "solution = []\n",
    "lables = []\n",
    "\n",
    "for i in range(NUM_QUEENS):\n",
    "    lables.append(i)\n",
    "\n",
    "while not print_found_goal(population):\n",
    "    print(f'Generation: {generation}')\n",
    "    print_found_goal(population)\n",
    "    population = evolution(population)\n",
    "    generation += 1\n",
    "\n",
    "#print answer\n",
    "print(solution)\n",
    "\n",
    "graph()\n"
   ],
   "metadata": {
    "collapsed": false,
    "pycharm": {
     "name": "#%%\n"
    }
   }
  },
  {
   "cell_type": "markdown",
   "source": [
    "third run"
   ],
   "metadata": {
    "collapsed": false,
    "pycharm": {
     "name": "#%% md\n"
    }
   }
  },
  {
   "cell_type": "code",
   "execution_count": null,
   "outputs": [],
   "source": [
    "NUM_QUEENS = int(input('Enter Number of Queens: '))\n",
    "POPULATION_SIZE = 16\n",
    "MIXING_NUMBER = 2\n",
    "MUTATION_RATE = 0.011"
   ],
   "metadata": {
    "collapsed": false,
    "pycharm": {
     "name": "#%%\n"
    }
   }
  },
  {
   "cell_type": "markdown",
   "source": [
    "Running the experiment"
   ],
   "metadata": {
    "collapsed": false
   }
  },
  {
   "cell_type": "code",
   "execution_count": 10,
   "outputs": [
    {
     "name": "stdout",
     "output_type": "stream",
     "text": [
      "4841.0\n",
      "Solution not found\n",
      "Generation: 0\n",
      "4841.0\n",
      "Solution not found\n"
     ]
    },
    {
     "name": "stderr",
     "output_type": "stream",
     "text": [
      "C:\\Users\\mrmas\\AppData\\Local\\Temp/ipykernel_18428/801981907.py:5: DeprecationWarning: non-integer arguments to randrange() have been deprecated since Python 3.10 and will be removed in a subsequent version\n",
      "  if random.randrange(sc.comb(NUM_QUEENS, 2) * 2) < fitness_score(ind):\n"
     ]
    },
    {
     "name": "stdout",
     "output_type": "stream",
     "text": [
      "4854.0\n",
      "Solution not found\n",
      "Generation: 1\n",
      "4854.0\n",
      "Solution not found\n",
      "4854.0\n",
      "Solution not found\n",
      "Generation: 2\n",
      "4854.0\n",
      "Solution not found\n",
      "4863.0\n",
      "Solution not found\n",
      "Generation: 3\n",
      "4863.0\n",
      "Solution not found\n",
      "4867.0\n",
      "Solution not found\n",
      "Generation: 4\n",
      "4867.0\n",
      "Solution not found\n",
      "4867.0\n",
      "Solution not found\n",
      "Generation: 5\n",
      "4867.0\n",
      "Solution not found\n",
      "4867.0\n",
      "Solution not found\n",
      "Generation: 6\n",
      "4867.0\n",
      "Solution not found\n",
      "4870.0\n",
      "Solution not found\n",
      "Generation: 7\n",
      "4870.0\n",
      "Solution not found\n",
      "4874.0\n",
      "Solution not found\n",
      "Generation: 8\n",
      "4874.0\n",
      "Solution not found\n",
      "4874.0\n",
      "Solution not found\n",
      "Generation: 9\n",
      "4874.0\n",
      "Solution not found\n",
      "4877.0\n",
      "Solution not found\n",
      "Generation: 10\n",
      "4877.0\n",
      "Solution not found\n",
      "4877.0\n",
      "Solution not found\n",
      "Generation: 11\n",
      "4877.0\n",
      "Solution not found\n",
      "4882.0\n",
      "Solution not found\n",
      "Generation: 12\n",
      "4882.0\n",
      "Solution not found\n",
      "4883.0\n",
      "Solution not found\n",
      "Generation: 13\n",
      "4883.0\n",
      "Solution not found\n",
      "4885.0\n",
      "Solution not found\n",
      "Generation: 14\n",
      "4885.0\n",
      "Solution not found\n",
      "4887.0\n",
      "Solution not found\n",
      "Generation: 15\n",
      "4887.0\n",
      "Solution not found\n",
      "4890.0\n",
      "Solution not found\n",
      ".........\n",
      ".........\n",
      "....wait..for..it.....\n",
      ".........\n",
      ".........\n",
      "Generation: 1841\n",
      "4949.0\n",
      "Solution not found\n",
      "4949.0\n",
      "Solution not found\n",
      "Generation: 1842\n",
      "4949.0\n",
      "Solution not found\n",
      "4949.0\n",
      "Solution not found\n",
      "Generation: 1843\n",
      "4949.0\n",
      "Solution not found\n",
      "4949.0\n",
      "Solution not found\n",
      "Generation: 1844\n",
      "4949.0\n",
      "Solution not found\n",
      "4949.0\n",
      "Solution not found\n",
      "Generation: 1845\n",
      "4949.0\n",
      "Solution not found\n",
      "4949.0\n",
      "Solution not found\n",
      "Generation: 1846\n",
      "4949.0\n",
      "Solution not found\n",
      "4949.0\n",
      "Solution not found\n",
      "Generation: 1847\n",
      "4949.0\n",
      "Solution not found\n",
      "4949.0\n",
      "Solution not found\n",
      "Generation: 1848\n",
      "4949.0\n",
      "Solution not found\n",
      "4949.0\n",
      "Solution not found\n",
      "Generation: 1849\n",
      "4949.0\n",
      "Solution not found\n",
      "4949.0\n",
      "Solution not found\n",
      "Generation: 1850\n",
      "4949.0\n",
      "Solution not found\n",
      "4949.0\n",
      "Solution not found\n",
      "Generation: 1851\n",
      "4949.0\n",
      "Solution not found\n",
      "4949.0\n",
      "Solution not found\n",
      "Generation: 1852\n",
      "4949.0\n",
      "Solution not found\n",
      "4949.0\n",
      "Solution not found\n",
      "Generation: 1853\n",
      "4949.0\n",
      "Solution not found\n",
      "4949.0\n",
      "Solution not found\n",
      "Generation: 1854\n",
      "4949.0\n",
      "Solution not found\n",
      "4949.0\n",
      "Solution not found\n",
      "Generation: 1855\n",
      "4949.0\n",
      "Solution not found\n",
      "4949.0\n",
      "Solution not found\n",
      "Generation: 1856\n",
      "4949.0\n",
      "Solution not found\n",
      "4950.0\n",
      "Solution found\n",
      "[18, 65, 67, 35, 70, 66, 57, 20, 90, 47, 10, 14, 64, 41, 22, 68, 83, 50, 52, 63, 97, 92, 37, 28, 99, 79, 16, 73, 1, 24, 55, 13, 15, 75, 84, 26, 3, 44, 30, 96, 80, 61, 77, 45, 93, 62, 94, 40, 9, 23, 5, 60, 6, 42, 25, 76, 95, 53, 39, 21, 87, 91, 72, 12, 27, 0, 43, 86, 46, 85, 8, 19, 56, 33, 71, 89, 98, 7, 58, 36, 78, 51, 81, 11, 59, 4, 74, 88, 82, 32, 54, 38, 34, 49, 2, 17, 29, 69, 48, 31]\n"
     ]
    },
    {
     "data": {
      "text/plain": "<Figure size 432x288 with 1 Axes>",
      "image/png": "[encoded data removed]"
     },
     "metadata": {
      "needs_background": "light"
     },
     "output_type": "display_data"
    }
   ],
   "source": [
    "generation = 0\n",
    "# generate random population\n",
    "population = generate_population()\n",
    "\n",
    "# for plot creation\n",
    "solution = []\n",
    "lables = []\n",
    "\n",
    "for i in range(NUM_QUEENS):\n",
    "    lables.append(i)\n",
    "\n",
    "while not print_found_goal(population):\n",
    "    print(f'Generation: {generation}')\n",
    "    print_found_goal(population)\n",
    "    population = evolution(population)\n",
    "    generation += 1\n",
    "\n",
    "#print answer\n",
    "print(solution)\n",
    "\n",
    "graph()\n"
   ],
   "metadata": {
    "collapsed": false,
    "pycharm": {
     "name": "#%%\n"
    }
   }
  }
 ],
 "metadata": {
  "kernelspec": {
   "display_name": "Python 3",
   "language": "python",
   "name": "python3"
  },
  "language_info": {
   "codemirror_mode": {
    "name": "ipython",
    "version": 2
   },
   "file_extension": ".py",
   "mimetype": "text/x-python",
   "name": "python",
   "nbconvert_exporter": "python",
   "pygments_lexer": "ipython2",
   "version": "2.7.6"
  }
 },
 "nbformat": 4,
 "nbformat_minor": 0
}
